{
  "nbformat": 4,
  "nbformat_minor": 0,
  "metadata": {
    "kernelspec": {
      "display_name": "Python 3",
      "language": "python",
      "name": "python3"
    },
    "language_info": {
      "codemirror_mode": {
        "name": "ipython",
        "version": 3
      },
      "file_extension": ".py",
      "mimetype": "text/x-python",
      "name": "python",
      "nbconvert_exporter": "python",
      "pygments_lexer": "ipython3",
      "version": "3.7.6"
    },
    "papermill": {
      "duration": 157.587937,
      "end_time": "2020-10-18T07:07:28.534032",
      "environment_variables": {},
      "exception": null,
      "input_path": "__notebook__.ipynb",
      "output_path": "__notebook__.ipynb",
      "parameters": {},
      "start_time": "2020-10-18T07:04:50.946095",
      "version": "2.1.0"
    },
    "widgets": {
      "application/vnd.jupyter.widget-state+json": {}
    },
    "colab": {
      "name": "face-mask-detection-pytorch.ipynb",
      "provenance": [],
      "collapsed_sections": []
    }
  },
  "cells": [
    {
      "cell_type": "markdown",
      "metadata": {
        "papermill": {
          "duration": 0.019067,
          "end_time": "2020-10-18T07:04:55.193075",
          "exception": false,
          "start_time": "2020-10-18T07:04:55.174008",
          "status": "completed"
        },
        "tags": [],
        "id": "TNh7jWHibQ3E"
      },
      "source": [
        "## Face Mask Detection\n",
        "\n",
        "With face masks becoming the new normal now. The abundance of detecting face masks have also seen a big surge in popularity as well and this is something I tried as I started learning PyTorch.\n",
        "\n"
      ]
    },
    {
      "cell_type": "code",
      "metadata": {
        "execution": {
          "iopub.execute_input": "2020-10-18T07:04:55.237847Z",
          "iopub.status.busy": "2020-10-18T07:04:55.237137Z",
          "iopub.status.idle": "2020-10-18T07:04:58.148098Z",
          "shell.execute_reply": "2020-10-18T07:04:58.148633Z"
        },
        "id": "cg1a93nb-IYV",
        "papermill": {
          "duration": 2.937719,
          "end_time": "2020-10-18T07:04:58.148885",
          "exception": false,
          "start_time": "2020-10-18T07:04:55.211166",
          "status": "completed"
        },
        "tags": [],
        "outputId": "187c38a5-b64d-412c-d546-bd39ea5d0d4d"
      },
      "source": [
        "import numpy as np\n",
        "import pandas as pd\n",
        "import matplotlib.pyplot as plt\n",
        "import torch\n",
        "import torch.nn as nn\n",
        "import torch.nn.functional as F\n",
        "import torch.optim as optim\n",
        "from torch.utils.data import DataLoader, random_split, SubsetRandomSampler, Subset, WeightedRandomSampler\n",
        "import torchvision\n",
        "from torch.autograd import Variable\n",
        "from torchvision.datasets import ImageFolder, DatasetFolder\n",
        "import torchvision.transforms as transforms\n",
        "from sklearn.metrics import confusion_matrix, classification_report\n",
        "import os\n",
        "import seaborn as sns\n",
        "\n",
        "import PIL\n",
        "from PIL import Image\n",
        "import warnings\n",
        "device = torch.device('cuda' if torch.cuda.is_available() else 'cpu')\n",
        "device"
      ],
      "execution_count": null,
      "outputs": [
        {
          "output_type": "execute_result",
          "data": {
            "text/plain": [
              "device(type='cuda')"
            ]
          },
          "metadata": {
            "tags": []
          },
          "execution_count": 1
        }
      ]
    },
    {
      "cell_type": "code",
      "metadata": {
        "execution": {
          "iopub.execute_input": "2020-10-18T07:04:58.196866Z",
          "iopub.status.busy": "2020-10-18T07:04:58.194970Z",
          "iopub.status.idle": "2020-10-18T07:04:58.197555Z",
          "shell.execute_reply": "2020-10-18T07:04:58.198061Z"
        },
        "id": "t8a-QZf_-tmW",
        "papermill": {
          "duration": 0.027191,
          "end_time": "2020-10-18T07:04:58.198181",
          "exception": false,
          "start_time": "2020-10-18T07:04:58.170990",
          "status": "completed"
        },
        "tags": []
      },
      "source": [
        "image_transforms = transforms.Compose(\n",
        "                   [transforms.Resize((32,32)),\n",
        "                    transforms.ToTensor(),\n",
        "                    transforms.Normalize((0.5, 0.5, 0.5), (0.5, 0.5, 0.5))])"
      ],
      "execution_count": null,
      "outputs": []
    },
    {
      "cell_type": "code",
      "metadata": {
        "execution": {
          "iopub.execute_input": "2020-10-18T07:04:58.239046Z",
          "iopub.status.busy": "2020-10-18T07:04:58.238443Z",
          "iopub.status.idle": "2020-10-18T07:04:58.242286Z",
          "shell.execute_reply": "2020-10-18T07:04:58.242820Z"
        },
        "id": "-BMgIyI-ILTU",
        "papermill": {
          "duration": 0.026107,
          "end_time": "2020-10-18T07:04:58.242955",
          "exception": false,
          "start_time": "2020-10-18T07:04:58.216848",
          "status": "completed"
        },
        "tags": []
      },
      "source": [
        "MAIN = '../input/face-mask-dataset/data'"
      ],
      "execution_count": null,
      "outputs": []
    },
    {
      "cell_type": "code",
      "metadata": {
        "execution": {
          "iopub.execute_input": "2020-10-18T07:04:58.284855Z",
          "iopub.status.busy": "2020-10-18T07:04:58.284101Z",
          "iopub.status.idle": "2020-10-18T07:04:59.600824Z",
          "shell.execute_reply": "2020-10-18T07:04:59.599848Z"
        },
        "id": "p6uaYLU1H6Of",
        "papermill": {
          "duration": 1.339194,
          "end_time": "2020-10-18T07:04:59.600939",
          "exception": false,
          "start_time": "2020-10-18T07:04:58.261745",
          "status": "completed"
        },
        "tags": [],
        "outputId": "6cd08b0c-5589-445e-ff93-e4f1a17922c7"
      },
      "source": [
        "dataset = ImageFolder(\n",
        "                      root = MAIN,\n",
        "                      transform = image_transforms\n",
        "                       )\n",
        "dataset"
      ],
      "execution_count": null,
      "outputs": [
        {
          "output_type": "execute_result",
          "data": {
            "text/plain": [
              "Dataset ImageFolder\n",
              "    Number of datapoints: 7553\n",
              "    Root location: ../input/face-mask-dataset/data\n",
              "    StandardTransform\n",
              "Transform: Compose(\n",
              "               Resize(size=(32, 32), interpolation=PIL.Image.BILINEAR)\n",
              "               ToTensor()\n",
              "               Normalize(mean=(0.5, 0.5, 0.5), std=(0.5, 0.5, 0.5))\n",
              "           )"
            ]
          },
          "metadata": {
            "tags": []
          },
          "execution_count": 4
        }
      ]
    },
    {
      "cell_type": "markdown",
      "metadata": {
        "papermill": {
          "duration": 0.019155,
          "end_time": "2020-10-18T07:04:59.639429",
          "exception": false,
          "start_time": "2020-10-18T07:04:59.620274",
          "status": "completed"
        },
        "tags": [],
        "id": "dQNECUmDbQ3I"
      },
      "source": [
        "# Reordering Classes"
      ]
    },
    {
      "cell_type": "code",
      "metadata": {
        "execution": {
          "iopub.execute_input": "2020-10-18T07:04:59.683133Z",
          "iopub.status.busy": "2020-10-18T07:04:59.682234Z",
          "iopub.status.idle": "2020-10-18T07:04:59.687686Z",
          "shell.execute_reply": "2020-10-18T07:04:59.687218Z"
        },
        "id": "JOGXKyYlOUtA",
        "papermill": {
          "duration": 0.029255,
          "end_time": "2020-10-18T07:04:59.687820",
          "exception": false,
          "start_time": "2020-10-18T07:04:59.658565",
          "status": "completed"
        },
        "tags": [],
        "outputId": "df7374bd-8608-4b91-e16f-3f416dd560cd"
      },
      "source": [
        "dataset.class_to_idx\n",
        "\n",
        "dataset.class_to_idx = {'with_mask':1, 'without_mask':0}\n",
        "dataset.class_to_idx"
      ],
      "execution_count": null,
      "outputs": [
        {
          "output_type": "execute_result",
          "data": {
            "text/plain": [
              "{'with_mask': 1, 'without_mask': 0}"
            ]
          },
          "metadata": {
            "tags": []
          },
          "execution_count": 5
        }
      ]
    },
    {
      "cell_type": "code",
      "metadata": {
        "execution": {
          "iopub.execute_input": "2020-10-18T07:04:59.732354Z",
          "iopub.status.busy": "2020-10-18T07:04:59.731705Z",
          "iopub.status.idle": "2020-10-18T07:04:59.737379Z",
          "shell.execute_reply": "2020-10-18T07:04:59.736886Z"
        },
        "id": "8ASRfw4TR7tx",
        "papermill": {
          "duration": 0.030135,
          "end_time": "2020-10-18T07:04:59.737468",
          "exception": false,
          "start_time": "2020-10-18T07:04:59.707333",
          "status": "completed"
        },
        "tags": [],
        "outputId": "e4f1d788-c97d-41cf-f0a4-6aac5ce2f5af"
      },
      "source": [
        "idx2class = {v: k for k, v in dataset.class_to_idx.items()}\n",
        "idx2class"
      ],
      "execution_count": null,
      "outputs": [
        {
          "output_type": "execute_result",
          "data": {
            "text/plain": [
              "{1: 'with_mask', 0: 'without_mask'}"
            ]
          },
          "metadata": {
            "tags": []
          },
          "execution_count": 6
        }
      ]
    },
    {
      "cell_type": "code",
      "metadata": {
        "execution": {
          "iopub.execute_input": "2020-10-18T07:04:59.784316Z",
          "iopub.status.busy": "2020-10-18T07:04:59.783680Z",
          "iopub.status.idle": "2020-10-18T07:05:36.995246Z",
          "shell.execute_reply": "2020-10-18T07:05:36.995953Z"
        },
        "id": "Ddvi22mDSsrM",
        "papermill": {
          "duration": 37.238552,
          "end_time": "2020-10-18T07:05:36.996133",
          "exception": false,
          "start_time": "2020-10-18T07:04:59.757581",
          "status": "completed"
        },
        "tags": [],
        "outputId": "bb6ba41c-d4db-4980-bb94-414f1c9be5ef"
      },
      "source": [
        "def get_class_distribution(dataset_obj):\n",
        "    count_dict = {k:0 for k,v in dataset_obj.class_to_idx.items()}\n",
        "    \n",
        "    for element in dataset_obj:\n",
        "        y_lbl = element[1]\n",
        "        y_lbl = idx2class[y_lbl]\n",
        "        count_dict[y_lbl] += 1\n",
        "            \n",
        "    return count_dict\n",
        "print(\"Distribution of classes: \\n\", get_class_distribution(dataset))"
      ],
      "execution_count": null,
      "outputs": [
        {
          "output_type": "stream",
          "text": [
            "/opt/conda/lib/python3.7/site-packages/PIL/Image.py:961: UserWarning: Palette images with Transparency expressed in bytes should be converted to RGBA images\n",
            "  \"Palette images with Transparency expressed in bytes should be \"\n"
          ],
          "name": "stderr"
        },
        {
          "output_type": "stream",
          "text": [
            "Distribution of classes: \n",
            " {'with_mask': 3828, 'without_mask': 3725}\n"
          ],
          "name": "stdout"
        }
      ]
    },
    {
      "cell_type": "code",
      "metadata": {
        "execution": {
          "iopub.execute_input": "2020-10-18T07:05:37.047529Z",
          "iopub.status.busy": "2020-10-18T07:05:37.046841Z",
          "iopub.status.idle": "2020-10-18T07:06:01.658640Z",
          "shell.execute_reply": "2020-10-18T07:06:01.657699Z"
        },
        "id": "3LseJBEfYW-X",
        "papermill": {
          "duration": 24.640155,
          "end_time": "2020-10-18T07:06:01.658770",
          "exception": false,
          "start_time": "2020-10-18T07:05:37.018615",
          "status": "completed"
        },
        "tags": [],
        "outputId": "dbfa4026-3002-480c-b09f-6fcaff968996"
      },
      "source": [
        "plt.figure(figsize=(15,8))\n",
        "sns.barplot(data = pd.DataFrame.from_dict([get_class_distribution(dataset)]).melt(), x = \"variable\", y=\"value\", hue=\"variable\").set_title('Face Mask Class Distribution')\n",
        "plt.show()"
      ],
      "execution_count": null,
      "outputs": [
        {
          "output_type": "display_data",
          "data": {
            "image/png": "[encoded data removed]",
            "text/plain": [
              "<Figure size 1080x576 with 1 Axes>"
            ]
          },
          "metadata": {
            "tags": [],
            "needs_background": "light"
          }
        }
      ]
    },
    {
      "cell_type": "markdown",
      "metadata": {
        "papermill": {
          "duration": 0.022503,
          "end_time": "2020-10-18T07:06:01.703962",
          "exception": false,
          "start_time": "2020-10-18T07:06:01.681459",
          "status": "completed"
        },
        "tags": [],
        "id": "I_hJtoXRbQ3J"
      },
      "source": [
        "# Splitting into Train and Validation Set"
      ]
    },
    {
      "cell_type": "code",
      "metadata": {
        "execution": {
          "iopub.execute_input": "2020-10-18T07:06:01.761427Z",
          "iopub.status.busy": "2020-10-18T07:06:01.760641Z",
          "iopub.status.idle": "2020-10-18T07:06:01.765644Z",
          "shell.execute_reply": "2020-10-18T07:06:01.765153Z"
        },
        "id": "ulZnwRhs5VVo",
        "papermill": {
          "duration": 0.034773,
          "end_time": "2020-10-18T07:06:01.765754",
          "exception": false,
          "start_time": "2020-10-18T07:06:01.730981",
          "status": "completed"
        },
        "tags": []
      },
      "source": [
        "train_dataset, val_dataset = random_split(dataset, (6000, 1553))"
      ],
      "execution_count": null,
      "outputs": []
    },
    {
      "cell_type": "code",
      "metadata": {
        "execution": {
          "iopub.execute_input": "2020-10-18T07:06:01.816511Z",
          "iopub.status.busy": "2020-10-18T07:06:01.815696Z",
          "iopub.status.idle": "2020-10-18T07:06:01.821330Z",
          "shell.execute_reply": "2020-10-18T07:06:01.820863Z"
        },
        "id": "Isg8pv5u6Akh",
        "papermill": {
          "duration": 0.033427,
          "end_time": "2020-10-18T07:06:01.821423",
          "exception": false,
          "start_time": "2020-10-18T07:06:01.787996",
          "status": "completed"
        },
        "tags": [],
        "outputId": "a2960049-4e62-4053-da3f-63a00168253c"
      },
      "source": [
        "train_loader = DataLoader(dataset=train_dataset, shuffle=True, batch_size=4, num_workers=2)\n",
        "val_loader = DataLoader(dataset=val_dataset, shuffle=False, batch_size=4, num_workers=2)\n",
        "print(\"Length of the train_loader:\", len(train_loader))\n",
        "print(\"Length of the val_loader:\", len(val_loader))"
      ],
      "execution_count": null,
      "outputs": [
        {
          "output_type": "stream",
          "text": [
            "Length of the train_loader: 1500\n",
            "Length of the val_loader: 389\n"
          ],
          "name": "stdout"
        }
      ]
    },
    {
      "cell_type": "markdown",
      "metadata": {
        "papermill": {
          "duration": 0.022203,
          "end_time": "2020-10-18T07:06:01.865991",
          "exception": false,
          "start_time": "2020-10-18T07:06:01.843788",
          "status": "completed"
        },
        "tags": [],
        "id": "XbIczKfqbQ3K"
      },
      "source": [
        "## Random few images"
      ]
    },
    {
      "cell_type": "code",
      "metadata": {
        "execution": {
          "iopub.execute_input": "2020-10-18T07:06:01.920555Z",
          "iopub.status.busy": "2020-10-18T07:06:01.919973Z",
          "iopub.status.idle": "2020-10-18T07:06:02.168102Z",
          "shell.execute_reply": "2020-10-18T07:06:02.168610Z"
        },
        "id": "dHvIn6diSCYB",
        "papermill": {
          "duration": 0.28012,
          "end_time": "2020-10-18T07:06:02.168760",
          "exception": false,
          "start_time": "2020-10-18T07:06:01.888640",
          "status": "completed"
        },
        "tags": [],
        "outputId": "f5d4b735-5587-48c8-979b-f1064437c9f3"
      },
      "source": [
        "def imshow(img):\n",
        "    img = img / 2 + 0.5     # unnormalize\n",
        "    npimg = img.numpy()\n",
        "    plt.imshow(np.transpose(npimg, (1, 2, 0)))\n",
        "    plt.show()\n",
        "\n",
        "\n",
        "# get some random training images\n",
        "dataiter = iter(train_loader)\n",
        "images, labels = dataiter.next()\n",
        "\n",
        "# show images\n",
        "imshow(torchvision.utils.make_grid(images))\n",
        "# print labels\n",
        "classes = ('with_mask', 'without_mask')\n",
        "print(' '.join('%5s' % classes[labels[j]] for j in range(4)))"
      ],
      "execution_count": null,
      "outputs": [
        {
          "output_type": "display_data",
          "data": {
            "image/png": "[encoded data removed]",
            "text/plain": [
              "<Figure size 432x288 with 1 Axes>"
            ]
          },
          "metadata": {
            "tags": [],
            "needs_background": "light"
          }
        },
        {
          "output_type": "stream",
          "text": [
            "without_mask with_mask with_mask with_mask\n"
          ],
          "name": "stdout"
        }
      ]
    },
    {
      "cell_type": "markdown",
      "metadata": {
        "papermill": {
          "duration": 0.024256,
          "end_time": "2020-10-18T07:06:02.217682",
          "exception": false,
          "start_time": "2020-10-18T07:06:02.193426",
          "status": "completed"
        },
        "tags": [],
        "id": "8kaRXZWwbQ3L"
      },
      "source": [
        "# Defining Neural Network"
      ]
    },
    {
      "cell_type": "code",
      "metadata": {
        "execution": {
          "iopub.execute_input": "2020-10-18T07:06:02.281892Z",
          "iopub.status.busy": "2020-10-18T07:06:02.281086Z",
          "iopub.status.idle": "2020-10-18T07:06:02.285879Z",
          "shell.execute_reply": "2020-10-18T07:06:02.285391Z"
        },
        "id": "n3FvAZKOAH0D",
        "papermill": {
          "duration": 0.043967,
          "end_time": "2020-10-18T07:06:02.285979",
          "exception": false,
          "start_time": "2020-10-18T07:06:02.242012",
          "status": "completed"
        },
        "tags": []
      },
      "source": [
        "class Net(nn.Module):\n",
        "    def __init__(self):\n",
        "        super(Net, self).__init__()\n",
        "        self.conv1 = nn.Conv2d(3, 6, 5)\n",
        "        self.pool = nn.MaxPool2d(2, 2)\n",
        "        self.conv2 = nn.Conv2d(6, 16, 5)\n",
        "        self.fc1 = nn.Linear(16 * 5 * 5, 120)\n",
        "        self.fc2 = nn.Linear(120, 84)\n",
        "        self.fc3 = nn.Linear(84, 10)\n",
        "\n",
        "    def forward(self, x):\n",
        "        x = self.pool(F.relu(self.conv1(x)))\n",
        "        x = self.pool(F.relu(self.conv2(x)))\n",
        "        x = x.view(-1, 16 * 5 * 5)\n",
        "        x = F.relu(self.fc1(x))\n",
        "        x = F.relu(self.fc2(x))\n",
        "        x = self.fc3(x)\n",
        "        return x\n",
        "\n",
        "net = Net()"
      ],
      "execution_count": null,
      "outputs": []
    },
    {
      "cell_type": "code",
      "metadata": {
        "execution": {
          "iopub.execute_input": "2020-10-18T07:06:02.342031Z",
          "iopub.status.busy": "2020-10-18T07:06:02.340316Z",
          "iopub.status.idle": "2020-10-18T07:06:02.342705Z",
          "shell.execute_reply": "2020-10-18T07:06:02.343191Z"
        },
        "id": "bq_Q4UzITbs7",
        "papermill": {
          "duration": 0.032593,
          "end_time": "2020-10-18T07:06:02.343303",
          "exception": false,
          "start_time": "2020-10-18T07:06:02.310710",
          "status": "completed"
        },
        "tags": []
      },
      "source": [
        "criterion = nn.CrossEntropyLoss()\n",
        "optimizer = optim.SGD(net.parameters(), lr=0.001, momentum=0.9)"
      ],
      "execution_count": null,
      "outputs": []
    },
    {
      "cell_type": "markdown",
      "metadata": {
        "papermill": {
          "duration": 0.024717,
          "end_time": "2020-10-18T07:06:02.392709",
          "exception": false,
          "start_time": "2020-10-18T07:06:02.367992",
          "status": "completed"
        },
        "tags": [],
        "id": "7Fpya9WAbQ3L"
      },
      "source": [
        "# Training Neural Network"
      ]
    },
    {
      "cell_type": "code",
      "metadata": {
        "execution": {
          "iopub.execute_input": "2020-10-18T07:06:02.460243Z",
          "iopub.status.busy": "2020-10-18T07:06:02.459477Z",
          "iopub.status.idle": "2020-10-18T07:06:02.462430Z",
          "shell.execute_reply": "2020-10-18T07:06:02.461963Z"
        },
        "id": "y_Jsb_MVbw0n",
        "papermill": {
          "duration": 0.044362,
          "end_time": "2020-10-18T07:06:02.462524",
          "exception": false,
          "start_time": "2020-10-18T07:06:02.418162",
          "status": "completed"
        },
        "tags": []
      },
      "source": [
        "def images_to_probs(net, images):\n",
        "    output = net(images)\n",
        "    # convert output probabilities to predicted class\n",
        "    _, preds_tensor = torch.max(output, 1)\n",
        "    preds = np.squeeze(preds_tensor.numpy())\n",
        "    return preds, [F.softmax(el, dim=0)[i].item() for i, el in zip(preds, output)]\n",
        "\n",
        "def evaluate(net, dataloader):\n",
        "    correct, total = 0, 0\n",
        "    with torch.no_grad():\n",
        "        net.eval()\n",
        "        for images, labels in dataloader:\n",
        "            images, labels = images, labels.numpy()\n",
        "\n",
        "            preds, probs = images_to_probs(net, images)\n",
        "\n",
        "            total += len(labels)\n",
        "            correct += (preds == labels).sum()\n",
        "    return correct/total * 100\n",
        "\n",
        "from tqdm.notebook import tqdm\n",
        "\n",
        "def train(net, loss_fn, opt, dataloader, epochs):\n",
        "    num_steps = 0\n",
        "    min_loss = 1e+10\n",
        "\n",
        "    for epoch in tqdm(range(1, epochs+1), total=epochs, desc='Training'):\n",
        "        running_loss = []\n",
        "        net.train() # Setting the network to TRAIN mode\n",
        "        for images, labels in dataloader:\n",
        "            images, labels = images, labels\n",
        "            num_steps += 1\n",
        "\n",
        "            # FP\n",
        "            outs = net(images)\n",
        "            loss = loss_fn(outs, labels)\n",
        "\n",
        "            # Logging the loss value\n",
        "            running_loss.append(loss.item())\n",
        "\n",
        "            # BP\n",
        "            opt.zero_grad()\n",
        "            loss.backward()\n",
        "            opt.step()\n",
        "\n",
        "            # Clearing the RAM\n",
        "            #del images, labels, outs\n",
        "            #torch.device('cpu').empty_cache()\n",
        "        \n",
        "        epoch_loss = sum(running_loss) / len(running_loss)\n",
        "        acc = evaluate(net, dataloader)\n",
        "        print(\"Accuracy: \",acc)\n",
        "        print(\"loss: \",epoch_loss)\n",
        "        # Model Checkpointing\n",
        "        if epoch_loss < min_loss:\n",
        "            min_loss = epoch_loss\n",
        "            bestmodel = net.state_dict()\n",
        "    #torch.save(bestmodel,'{0}_{1:0.4f}.pth'.format('classifier',min_loss))\n",
        "    return None\n",
        "\n",
        "    print('Training finished!!!')"
      ],
      "execution_count": null,
      "outputs": []
    },
    {
      "cell_type": "code",
      "metadata": {
        "execution": {
          "iopub.execute_input": "2020-10-18T07:06:02.540975Z",
          "iopub.status.busy": "2020-10-18T07:06:02.540063Z",
          "iopub.status.idle": "2020-10-18T07:07:27.549606Z",
          "shell.execute_reply": "2020-10-18T07:07:27.546090Z"
        },
        "id": "dPrcycqm8sLX",
        "papermill": {
          "duration": 85.06214,
          "end_time": "2020-10-18T07:07:27.549797",
          "exception": false,
          "start_time": "2020-10-18T07:06:02.487657",
          "status": "completed"
        },
        "tags": [],
        "colab": {
          "referenced_widgets": [
            "ba981b52979c409a98bb81ca14e120d3"
          ]
        },
        "outputId": "c237dae5-4754-4f2a-df30-a2d14fca2353"
      },
      "source": [
        "train(net, criterion, optimizer, train_loader, 2)"
      ],
      "execution_count": null,
      "outputs": [
        {
          "output_type": "display_data",
          "data": {
            "application/vnd.jupyter.widget-view+json": {
              "model_id": "ba981b52979c409a98bb81ca14e120d3",
              "version_major": 2,
              "version_minor": 0
            },
            "text/plain": [
              "HBox(children=(FloatProgress(value=0.0, description='Training', max=2.0, style=ProgressStyle(description_width…"
            ]
          },
          "metadata": {
            "tags": []
          }
        },
        {
          "output_type": "stream",
          "text": [
            "Accuracy:  87.58333333333333\n",
            "loss:  0.618734193570291\n",
            "Accuracy:  90.45\n",
            "loss:  0.299127954783539\n",
            "\n"
          ],
          "name": "stdout"
        }
      ]
    },
    {
      "cell_type": "markdown",
      "metadata": {
        "papermill": {
          "duration": 0.025988,
          "end_time": "2020-10-18T07:07:27.603403",
          "exception": false,
          "start_time": "2020-10-18T07:07:27.577415",
          "status": "completed"
        },
        "tags": [],
        "id": "4lhHMKqlbQ3N"
      },
      "source": [
        "# Testing Neural Network"
      ]
    },
    {
      "cell_type": "code",
      "metadata": {
        "execution": {
          "iopub.execute_input": "2020-10-18T07:07:27.662061Z",
          "iopub.status.busy": "2020-10-18T07:07:27.660645Z",
          "iopub.status.idle": "2020-10-18T07:07:27.744329Z",
          "shell.execute_reply": "2020-10-18T07:07:27.744840Z"
        },
        "id": "4Z0q-EZUXkDL",
        "papermill": {
          "duration": 0.115573,
          "end_time": "2020-10-18T07:07:27.744985",
          "exception": false,
          "start_time": "2020-10-18T07:07:27.629412",
          "status": "completed"
        },
        "tags": []
      },
      "source": [
        "testimg, testlab = next(iter(val_loader))\n",
        "testimg, testlab = testimg, testlab\n",
        "\n",
        "pred = net(testimg)\n",
        "predlab = torch.argmax(pred,axis=1)"
      ],
      "execution_count": null,
      "outputs": []
    },
    {
      "cell_type": "code",
      "metadata": {
        "execution": {
          "iopub.execute_input": "2020-10-18T07:07:27.812969Z",
          "iopub.status.busy": "2020-10-18T07:07:27.809927Z",
          "iopub.status.idle": "2020-10-18T07:07:27.816316Z",
          "shell.execute_reply": "2020-10-18T07:07:27.817125Z"
        },
        "id": "jC1_2AZQXkGE",
        "papermill": {
          "duration": 0.045023,
          "end_time": "2020-10-18T07:07:27.817316",
          "exception": false,
          "start_time": "2020-10-18T07:07:27.772293",
          "status": "completed"
        },
        "tags": [],
        "outputId": "b2d7a632-9a97-4de9-b9a8-dde15e660539"
      },
      "source": [
        "print(\"Predicted\",[i for i in predlab])\n",
        "print(\"Actual\",[i for i in testlab])\n",
        "for i in predlab:\n",
        "  if i == 0:\n",
        "    print(\"without_mask\")\n",
        "  else:\n",
        "    print(\"with_mask\")\n",
        "print(\"______________________________________________________________________________________________________________\")\n",
        "for i in testlab:\n",
        "  if i == 0:\n",
        "    print(\"without_mask\")\n",
        "  else:\n",
        "    print(\"with_mask\")"
      ],
      "execution_count": null,
      "outputs": [
        {
          "output_type": "stream",
          "text": [
            "Predicted [tensor(0), tensor(1), tensor(1), tensor(0)]\n",
            "Actual [tensor(0), tensor(1), tensor(1), tensor(0)]\n",
            "without_mask\n",
            "with_mask\n",
            "with_mask\n",
            "without_mask\n",
            "______________________________________________________________________________________________________________\n",
            "without_mask\n",
            "with_mask\n",
            "with_mask\n",
            "without_mask\n"
          ],
          "name": "stdout"
        }
      ]
    },
    {
      "cell_type": "markdown",
      "metadata": {
        "papermill": {
          "duration": 0.029264,
          "end_time": "2020-10-18T07:07:27.887131",
          "exception": false,
          "start_time": "2020-10-18T07:07:27.857867",
          "status": "completed"
        },
        "tags": [],
        "id": "htbSsSJibQ3O"
      },
      "source": [
        "Currently learning how to do it for the whole validation set. Since batch_size = 4, we get this output."
      ]
    },
    {
      "cell_type": "markdown",
      "metadata": {
        "papermill": {
          "duration": 0.028092,
          "end_time": "2020-10-18T07:07:27.943095",
          "exception": false,
          "start_time": "2020-10-18T07:07:27.915003",
          "status": "completed"
        },
        "tags": [],
        "id": "z2A436NQbQ3O"
      },
      "source": [
        "# Final Metrics"
      ]
    },
    {
      "cell_type": "markdown",
      "metadata": {
        "papermill": {
          "duration": 0.02677,
          "end_time": "2020-10-18T07:07:27.997132",
          "exception": false,
          "start_time": "2020-10-18T07:07:27.970362",
          "status": "completed"
        },
        "tags": [],
        "id": "PjXNM7yybQ3O"
      },
      "source": [
        "## Confusion Matrix"
      ]
    },
    {
      "cell_type": "code",
      "metadata": {
        "execution": {
          "iopub.execute_input": "2020-10-18T07:07:28.062603Z",
          "iopub.status.busy": "2020-10-18T07:07:28.061936Z",
          "iopub.status.idle": "2020-10-18T07:07:28.067036Z",
          "shell.execute_reply": "2020-10-18T07:07:28.066530Z"
        },
        "id": "42MpdzsDXjys",
        "papermill": {
          "duration": 0.042673,
          "end_time": "2020-10-18T07:07:28.067138",
          "exception": false,
          "start_time": "2020-10-18T07:07:28.024465",
          "status": "completed"
        },
        "tags": [],
        "outputId": "629d5573-017b-402c-b814-b22bb53e13ba"
      },
      "source": [
        "predlab = predlab.to(torch.device('cpu'))\n",
        "testlab = testlab.to(torch.device('cpu'))\n",
        "pred = predlab.numpy()\n",
        "test = testlab.numpy()\n",
        "matrix = confusion_matrix(test,pred)\n",
        "print(matrix)"
      ],
      "execution_count": null,
      "outputs": [
        {
          "output_type": "stream",
          "text": [
            "[[2 0]\n",
            " [0 2]]\n"
          ],
          "name": "stdout"
        }
      ]
    },
    {
      "cell_type": "markdown",
      "metadata": {
        "papermill": {
          "duration": 0.02772,
          "end_time": "2020-10-18T07:07:28.122092",
          "exception": false,
          "start_time": "2020-10-18T07:07:28.094372",
          "status": "completed"
        },
        "tags": [],
        "id": "jTtFw3ZsbQ3P"
      },
      "source": [
        "# Classification Report"
      ]
    },
    {
      "cell_type": "code",
      "metadata": {
        "execution": {
          "iopub.execute_input": "2020-10-18T07:07:28.182549Z",
          "iopub.status.busy": "2020-10-18T07:07:28.181674Z",
          "iopub.status.idle": "2020-10-18T07:07:28.192470Z",
          "shell.execute_reply": "2020-10-18T07:07:28.191693Z"
        },
        "id": "vY5n_E9sXttR",
        "papermill": {
          "duration": 0.042879,
          "end_time": "2020-10-18T07:07:28.192588",
          "exception": false,
          "start_time": "2020-10-18T07:07:28.149709",
          "status": "completed"
        },
        "tags": [],
        "outputId": "9829d599-5043-41d3-894b-52868811b122"
      },
      "source": [
        "report = classification_report(test, pred, target_names=['with_mask','without_mask'])\n",
        "print(report)  "
      ],
      "execution_count": null,
      "outputs": [
        {
          "output_type": "stream",
          "text": [
            "              precision    recall  f1-score   support\n",
            "\n",
            "   with_mask       1.00      1.00      1.00         2\n",
            "without_mask       1.00      1.00      1.00         2\n",
            "\n",
            "    accuracy                           1.00         4\n",
            "   macro avg       1.00      1.00      1.00         4\n",
            "weighted avg       1.00      1.00      1.00         4\n",
            "\n"
          ],
          "name": "stdout"
        }
      ]
    }
  ]
}